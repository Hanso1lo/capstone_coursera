{
  "nbformat": 4,
  "nbformat_minor": 0,
  "metadata": {
    "colab": {
      "name": "PART_ABCD_ assignment_DL_intro_week5_keras.ipynb",
      "provenance": [],
      "toc_visible": true,
      "authorship_tag": "ABX9TyOYm/NUuBRQ+FNJ1ZoJ/KXq",
      "include_colab_link": true
    },
    "kernelspec": {
      "name": "python3",
      "display_name": "Python 3"
    },
    "language_info": {
      "name": "python"
    }
  },
  "cells": [
    {
      "cell_type": "markdown",
      "metadata": {
        "id": "view-in-github",
        "colab_type": "text"
      },
      "source": [
        "<a href=\"https://colab.research.google.com/github/Hanso1lo/capstone_coursera/blob/master/PART_ABCD__assignment_DL_intro_week5_keras.ipynb\" target=\"_parent\"><img src=\"https://colab.research.google.com/assets/colab-badge.svg\" alt=\"Open In Colab\"/></a>"
      ]
    },
    {
      "cell_type": "markdown",
      "source": [
        "# Peer-graded Assignment: Build a Regression Model in Keras\n",
        "\n"
      ],
      "metadata": {
        "id": "XlfuEG7nR__z"
      }
    },
    {
      "cell_type": "markdown",
      "source": [
        "## Assignment Topic"
      ],
      "metadata": {
        "id": "WugLI_iPWA4Z"
      }
    },
    {
      "cell_type": "markdown",
      "source": [
        "In this project, you will build a regression model using the Keras library to model the same data about concrete compressive strength that we used in labs 3.\n",
        "\n",
        "\n",
        "\n",
        "---\n",
        "\n",
        "\n",
        "Concrete Data:\n",
        "\n",
        "For your convenience, the data can be found here again: https://cocl.us/concrete_data. To recap, the predictors in the data of concrete strength include:\n",
        "\n",
        "* Cement\n",
        "\n",
        "* Blast Furnace Slag\n",
        "\n",
        "* Fly Ash\n",
        "\n",
        "* Water\n",
        "\n",
        "* Superplasticizer\n",
        "\n",
        "* Coarse Aggregate\n",
        "\n",
        "* Fine Aggregate\n",
        "\n",
        "\n",
        " \n",
        "\n",
        "---\n",
        "\n",
        "\n",
        "Assignment Instructions:\n",
        "\n",
        "Please check the My Submission tab for detailed assignment instructions.\n",
        "\n",
        "How to submit:\n",
        "\n",
        "You will need to submit your code for each part in a Jupyter Notebook. Since each part builds on the previous one, you can submit the same notebook four times for grading. Please make sure that you:\n",
        "\n",
        "* use Markdown to clearly label your code for each part,\n",
        "\n",
        "* properly comment your code so that your peer who is grading your work is able to understand your code easily,\n",
        "\n",
        "* include your comments and discussion of the difference in the mean of the mean squared errors among the different parts.\n",
        "\n",
        "--- \n",
        "TASKS\n",
        "\n",
        "A. Build a baseline model (5 marks) \n",
        "\n",
        "Use the Keras library to build a neural network with the following:\n",
        "\n",
        "- One hidden layer of 10 nodes, and a ReLU activation function\n",
        "\n",
        "- Use the adam optimizer and the mean squared error  as the loss function.\n",
        "\n",
        "---\n",
        "Steps\n",
        "\n",
        "1. Randomly split the data into a training and test sets by holding 30% of the data for testing. You can use the train_test_splithelper function from Scikit-learn.\n",
        "\n",
        "2. Train the model on the training data using 50 epochs.\n",
        "\n",
        "3. Evaluate the model on the test data and compute the mean squared error between the predicted concrete strength and the actual concrete strength. You can use the mean_squared_error function from Scikit-learn.\n",
        "\n",
        "4. Repeat steps 1 - 3, 50 times, i.e., create a list of 50 mean squared errors.\n",
        "\n",
        "5. Report the mean and the standard deviation of the mean squared errors.\n",
        "\n",
        "Submit your Jupyter Notebook with your code and comments.\n",
        "\n",
        "---\n",
        "\n",
        "B. Normalize the data (5 marks) \n",
        "\n",
        "Repeat Part A but use a normalized version of the data. Recall that one way to normalize the data is by subtracting the mean from the individual predictors and dividing by the standard deviation.\n",
        "\n",
        "How does the mean of the mean squared errors compare to that from Step A?\n",
        "\n",
        "---\n",
        "\n",
        "C. Increase the number of epochs (5 marks)\n",
        "\n",
        "Repeat Part B but use 100 epochs this time for training.\n",
        "\n",
        "How does the mean of the mean squared errors compare to that from Step B?\n",
        "\n",
        "---\n",
        "\n",
        "D. Increase the number of hidden layers (5 marks)\n",
        "\n",
        "Repeat part B but use a neural network with the following instead:\n",
        "\n",
        "- Three hidden layers, each of 10 nodes and ReLU activation function.\n",
        "\n",
        "How does the mean of the mean squared errors compare to that from Step B?"
      ],
      "metadata": {
        "id": "izt5c0QVV7ph"
      }
    },
    {
      "cell_type": "markdown",
      "source": [
        "## RESULTS\n",
        "\n",
        "\n",
        "Measures            | PART A  | PART B  | PART C  | PART D\n",
        "--------------------|---------|---------|---------|---\n",
        "Normalized X        | no      |  yes    | yes     | yes\n",
        "Epochs              | 50      |  50     | 100     | 50\n",
        "Hidden Layers       |  1 x 10 | 1 x 10  | 1 x 10  | 3 x 10\n",
        "Activation Function | ReLU    | ReLU    | ReLU    | ReLU\n",
        "**Mean of MSE**     |**48.30**|**47.48**|**44.03**| **35.77**\n",
        "**Standard Dev.**   |**3.99** |**3.46** |**3.63** | **6.08**\n",
        "\n",
        "\n",
        "As can be seen in the chart above the mean of MSE became better (decreased) from Part A to Part D, while the Standard deviation increased for Part D.\n"
      ],
      "metadata": {
        "id": "Sfm17T4YfBke"
      }
    },
    {
      "cell_type": "markdown",
      "source": [
        "## Import Libraries"
      ],
      "metadata": {
        "id": "nOF07bD5NMNc"
      }
    },
    {
      "cell_type": "code",
      "execution_count": 3,
      "metadata": {
        "id": "Drsmwr9DM5Ho"
      },
      "outputs": [],
      "source": [
        "import keras\n",
        "from keras.models import Sequential\n",
        "from keras.layers import Dense\n",
        "import pandas as pd\n",
        "import numpy as np\n",
        "from sklearn. model_selection import train_test_split"
      ]
    },
    {
      "cell_type": "markdown",
      "source": [
        "## Load Data"
      ],
      "metadata": {
        "id": "R0Xv8x3KOqOq"
      }
    },
    {
      "cell_type": "code",
      "source": [
        "df = pd.read_csv('https://s3-api.us-geo.objectstorage.softlayer.net/cf-courses-data/CognitiveClass/DL0101EN/labs/data/concrete_data.csv')"
      ],
      "metadata": {
        "id": "1mdqWBXLOsqr"
      },
      "execution_count": 7,
      "outputs": []
    },
    {
      "cell_type": "markdown",
      "source": [
        "## Analyse data"
      ],
      "metadata": {
        "id": "xZPWcy6GQS16"
      }
    },
    {
      "cell_type": "code",
      "source": [
        "df.head() # Data overview"
      ],
      "metadata": {
        "colab": {
          "base_uri": "https://localhost:8080/",
          "height": 206
        },
        "id": "NngoGbDtPSPx",
        "outputId": "84f83c7c-7471-40a2-c366-e3e069853c9e"
      },
      "execution_count": 8,
      "outputs": [
        {
          "output_type": "execute_result",
          "data": {
            "text/plain": [
              "   Cement  Blast Furnace Slag  Fly Ash  Water  Superplasticizer  \\\n",
              "0   540.0                 0.0      0.0  162.0               2.5   \n",
              "1   540.0                 0.0      0.0  162.0               2.5   \n",
              "2   332.5               142.5      0.0  228.0               0.0   \n",
              "3   332.5               142.5      0.0  228.0               0.0   \n",
              "4   198.6               132.4      0.0  192.0               0.0   \n",
              "\n",
              "   Coarse Aggregate  Fine Aggregate  Age  Strength  \n",
              "0            1040.0           676.0   28     79.99  \n",
              "1            1055.0           676.0   28     61.89  \n",
              "2             932.0           594.0  270     40.27  \n",
              "3             932.0           594.0  365     41.05  \n",
              "4             978.4           825.5  360     44.30  "
            ],
            "text/html": [
              "\n",
              "  <div id=\"df-57dfa9c3-e0e2-451d-954d-00b5d24bd00a\">\n",
              "    <div class=\"colab-df-container\">\n",
              "      <div>\n",
              "<style scoped>\n",
              "    .dataframe tbody tr th:only-of-type {\n",
              "        vertical-align: middle;\n",
              "    }\n",
              "\n",
              "    .dataframe tbody tr th {\n",
              "        vertical-align: top;\n",
              "    }\n",
              "\n",
              "    .dataframe thead th {\n",
              "        text-align: right;\n",
              "    }\n",
              "</style>\n",
              "<table border=\"1\" class=\"dataframe\">\n",
              "  <thead>\n",
              "    <tr style=\"text-align: right;\">\n",
              "      <th></th>\n",
              "      <th>Cement</th>\n",
              "      <th>Blast Furnace Slag</th>\n",
              "      <th>Fly Ash</th>\n",
              "      <th>Water</th>\n",
              "      <th>Superplasticizer</th>\n",
              "      <th>Coarse Aggregate</th>\n",
              "      <th>Fine Aggregate</th>\n",
              "      <th>Age</th>\n",
              "      <th>Strength</th>\n",
              "    </tr>\n",
              "  </thead>\n",
              "  <tbody>\n",
              "    <tr>\n",
              "      <th>0</th>\n",
              "      <td>540.0</td>\n",
              "      <td>0.0</td>\n",
              "      <td>0.0</td>\n",
              "      <td>162.0</td>\n",
              "      <td>2.5</td>\n",
              "      <td>1040.0</td>\n",
              "      <td>676.0</td>\n",
              "      <td>28</td>\n",
              "      <td>79.99</td>\n",
              "    </tr>\n",
              "    <tr>\n",
              "      <th>1</th>\n",
              "      <td>540.0</td>\n",
              "      <td>0.0</td>\n",
              "      <td>0.0</td>\n",
              "      <td>162.0</td>\n",
              "      <td>2.5</td>\n",
              "      <td>1055.0</td>\n",
              "      <td>676.0</td>\n",
              "      <td>28</td>\n",
              "      <td>61.89</td>\n",
              "    </tr>\n",
              "    <tr>\n",
              "      <th>2</th>\n",
              "      <td>332.5</td>\n",
              "      <td>142.5</td>\n",
              "      <td>0.0</td>\n",
              "      <td>228.0</td>\n",
              "      <td>0.0</td>\n",
              "      <td>932.0</td>\n",
              "      <td>594.0</td>\n",
              "      <td>270</td>\n",
              "      <td>40.27</td>\n",
              "    </tr>\n",
              "    <tr>\n",
              "      <th>3</th>\n",
              "      <td>332.5</td>\n",
              "      <td>142.5</td>\n",
              "      <td>0.0</td>\n",
              "      <td>228.0</td>\n",
              "      <td>0.0</td>\n",
              "      <td>932.0</td>\n",
              "      <td>594.0</td>\n",
              "      <td>365</td>\n",
              "      <td>41.05</td>\n",
              "    </tr>\n",
              "    <tr>\n",
              "      <th>4</th>\n",
              "      <td>198.6</td>\n",
              "      <td>132.4</td>\n",
              "      <td>0.0</td>\n",
              "      <td>192.0</td>\n",
              "      <td>0.0</td>\n",
              "      <td>978.4</td>\n",
              "      <td>825.5</td>\n",
              "      <td>360</td>\n",
              "      <td>44.30</td>\n",
              "    </tr>\n",
              "  </tbody>\n",
              "</table>\n",
              "</div>\n",
              "      <button class=\"colab-df-convert\" onclick=\"convertToInteractive('df-57dfa9c3-e0e2-451d-954d-00b5d24bd00a')\"\n",
              "              title=\"Convert this dataframe to an interactive table.\"\n",
              "              style=\"display:none;\">\n",
              "        \n",
              "  <svg xmlns=\"http://www.w3.org/2000/svg\" height=\"24px\"viewBox=\"0 0 24 24\"\n",
              "       width=\"24px\">\n",
              "    <path d=\"M0 0h24v24H0V0z\" fill=\"none\"/>\n",
              "    <path d=\"M18.56 5.44l.94 2.06.94-2.06 2.06-.94-2.06-.94-.94-2.06-.94 2.06-2.06.94zm-11 1L8.5 8.5l.94-2.06 2.06-.94-2.06-.94L8.5 2.5l-.94 2.06-2.06.94zm10 10l.94 2.06.94-2.06 2.06-.94-2.06-.94-.94-2.06-.94 2.06-2.06.94z\"/><path d=\"M17.41 7.96l-1.37-1.37c-.4-.4-.92-.59-1.43-.59-.52 0-1.04.2-1.43.59L10.3 9.45l-7.72 7.72c-.78.78-.78 2.05 0 2.83L4 21.41c.39.39.9.59 1.41.59.51 0 1.02-.2 1.41-.59l7.78-7.78 2.81-2.81c.8-.78.8-2.07 0-2.86zM5.41 20L4 18.59l7.72-7.72 1.47 1.35L5.41 20z\"/>\n",
              "  </svg>\n",
              "      </button>\n",
              "      \n",
              "  <style>\n",
              "    .colab-df-container {\n",
              "      display:flex;\n",
              "      flex-wrap:wrap;\n",
              "      gap: 12px;\n",
              "    }\n",
              "\n",
              "    .colab-df-convert {\n",
              "      background-color: #E8F0FE;\n",
              "      border: none;\n",
              "      border-radius: 50%;\n",
              "      cursor: pointer;\n",
              "      display: none;\n",
              "      fill: #1967D2;\n",
              "      height: 32px;\n",
              "      padding: 0 0 0 0;\n",
              "      width: 32px;\n",
              "    }\n",
              "\n",
              "    .colab-df-convert:hover {\n",
              "      background-color: #E2EBFA;\n",
              "      box-shadow: 0px 1px 2px rgba(60, 64, 67, 0.3), 0px 1px 3px 1px rgba(60, 64, 67, 0.15);\n",
              "      fill: #174EA6;\n",
              "    }\n",
              "\n",
              "    [theme=dark] .colab-df-convert {\n",
              "      background-color: #3B4455;\n",
              "      fill: #D2E3FC;\n",
              "    }\n",
              "\n",
              "    [theme=dark] .colab-df-convert:hover {\n",
              "      background-color: #434B5C;\n",
              "      box-shadow: 0px 1px 3px 1px rgba(0, 0, 0, 0.15);\n",
              "      filter: drop-shadow(0px 1px 2px rgba(0, 0, 0, 0.3));\n",
              "      fill: #FFFFFF;\n",
              "    }\n",
              "  </style>\n",
              "\n",
              "      <script>\n",
              "        const buttonEl =\n",
              "          document.querySelector('#df-57dfa9c3-e0e2-451d-954d-00b5d24bd00a button.colab-df-convert');\n",
              "        buttonEl.style.display =\n",
              "          google.colab.kernel.accessAllowed ? 'block' : 'none';\n",
              "\n",
              "        async function convertToInteractive(key) {\n",
              "          const element = document.querySelector('#df-57dfa9c3-e0e2-451d-954d-00b5d24bd00a');\n",
              "          const dataTable =\n",
              "            await google.colab.kernel.invokeFunction('convertToInteractive',\n",
              "                                                     [key], {});\n",
              "          if (!dataTable) return;\n",
              "\n",
              "          const docLinkHtml = 'Like what you see? Visit the ' +\n",
              "            '<a target=\"_blank\" href=https://colab.research.google.com/notebooks/data_table.ipynb>data table notebook</a>'\n",
              "            + ' to learn more about interactive tables.';\n",
              "          element.innerHTML = '';\n",
              "          dataTable['output_type'] = 'display_data';\n",
              "          await google.colab.output.renderOutput(dataTable, element);\n",
              "          const docLink = document.createElement('div');\n",
              "          docLink.innerHTML = docLinkHtml;\n",
              "          element.appendChild(docLink);\n",
              "        }\n",
              "      </script>\n",
              "    </div>\n",
              "  </div>\n",
              "  "
            ]
          },
          "metadata": {},
          "execution_count": 8
        }
      ]
    },
    {
      "cell_type": "code",
      "source": [
        "df.info() # Check Data Types"
      ],
      "metadata": {
        "colab": {
          "base_uri": "https://localhost:8080/"
        },
        "id": "0mzTEg43QYDQ",
        "outputId": "c127fcd4-de20-43ae-8f60-cb565b7c84db"
      },
      "execution_count": null,
      "outputs": [
        {
          "output_type": "stream",
          "name": "stdout",
          "text": [
            "<class 'pandas.core.frame.DataFrame'>\n",
            "RangeIndex: 1030 entries, 0 to 1029\n",
            "Data columns (total 9 columns):\n",
            " #   Column              Non-Null Count  Dtype  \n",
            "---  ------              --------------  -----  \n",
            " 0   Cement              1030 non-null   float64\n",
            " 1   Blast Furnace Slag  1030 non-null   float64\n",
            " 2   Fly Ash             1030 non-null   float64\n",
            " 3   Water               1030 non-null   float64\n",
            " 4   Superplasticizer    1030 non-null   float64\n",
            " 5   Coarse Aggregate    1030 non-null   float64\n",
            " 6   Fine Aggregate      1030 non-null   float64\n",
            " 7   Age                 1030 non-null   int64  \n",
            " 8   Strength            1030 non-null   float64\n",
            "dtypes: float64(8), int64(1)\n",
            "memory usage: 72.5 KB\n"
          ]
        }
      ]
    },
    {
      "cell_type": "markdown",
      "source": [
        "Check for missing values"
      ],
      "metadata": {
        "id": "Qo2KG9fCRyKD"
      }
    },
    {
      "cell_type": "code",
      "source": [
        "df.describe() # more info about the dataframe"
      ],
      "metadata": {
        "colab": {
          "base_uri": "https://localhost:8080/"
        },
        "id": "6JHxNJqUR244",
        "outputId": "c0151841-e70a-4165-a334-768269164c85"
      },
      "execution_count": null,
      "outputs": [
        {
          "output_type": "execute_result",
          "data": {
            "text/plain": [
              "            Cement  Blast Furnace Slag      Fly Ash        Water  \\\n",
              "count  1030.000000         1030.000000  1030.000000  1030.000000   \n",
              "mean    281.167864           73.895825    54.188350   181.567282   \n",
              "std     104.506364           86.279342    63.997004    21.354219   \n",
              "min     102.000000            0.000000     0.000000   121.800000   \n",
              "25%     192.375000            0.000000     0.000000   164.900000   \n",
              "50%     272.900000           22.000000     0.000000   185.000000   \n",
              "75%     350.000000          142.950000   118.300000   192.000000   \n",
              "max     540.000000          359.400000   200.100000   247.000000   \n",
              "\n",
              "       Superplasticizer  Coarse Aggregate  Fine Aggregate          Age  \\\n",
              "count       1030.000000       1030.000000     1030.000000  1030.000000   \n",
              "mean           6.204660        972.918932      773.580485    45.662136   \n",
              "std            5.973841         77.753954       80.175980    63.169912   \n",
              "min            0.000000        801.000000      594.000000     1.000000   \n",
              "25%            0.000000        932.000000      730.950000     7.000000   \n",
              "50%            6.400000        968.000000      779.500000    28.000000   \n",
              "75%           10.200000       1029.400000      824.000000    56.000000   \n",
              "max           32.200000       1145.000000      992.600000   365.000000   \n",
              "\n",
              "          Strength  \n",
              "count  1030.000000  \n",
              "mean     35.817961  \n",
              "std      16.705742  \n",
              "min       2.330000  \n",
              "25%      23.710000  \n",
              "50%      34.445000  \n",
              "75%      46.135000  \n",
              "max      82.600000  "
            ],
            "text/html": [
              "\n",
              "  <div id=\"df-a4005642-f60f-4ec9-9e28-e87bc334ddf4\">\n",
              "    <div class=\"colab-df-container\">\n",
              "      <div>\n",
              "<style scoped>\n",
              "    .dataframe tbody tr th:only-of-type {\n",
              "        vertical-align: middle;\n",
              "    }\n",
              "\n",
              "    .dataframe tbody tr th {\n",
              "        vertical-align: top;\n",
              "    }\n",
              "\n",
              "    .dataframe thead th {\n",
              "        text-align: right;\n",
              "    }\n",
              "</style>\n",
              "<table border=\"1\" class=\"dataframe\">\n",
              "  <thead>\n",
              "    <tr style=\"text-align: right;\">\n",
              "      <th></th>\n",
              "      <th>Cement</th>\n",
              "      <th>Blast Furnace Slag</th>\n",
              "      <th>Fly Ash</th>\n",
              "      <th>Water</th>\n",
              "      <th>Superplasticizer</th>\n",
              "      <th>Coarse Aggregate</th>\n",
              "      <th>Fine Aggregate</th>\n",
              "      <th>Age</th>\n",
              "      <th>Strength</th>\n",
              "    </tr>\n",
              "  </thead>\n",
              "  <tbody>\n",
              "    <tr>\n",
              "      <th>count</th>\n",
              "      <td>1030.000000</td>\n",
              "      <td>1030.000000</td>\n",
              "      <td>1030.000000</td>\n",
              "      <td>1030.000000</td>\n",
              "      <td>1030.000000</td>\n",
              "      <td>1030.000000</td>\n",
              "      <td>1030.000000</td>\n",
              "      <td>1030.000000</td>\n",
              "      <td>1030.000000</td>\n",
              "    </tr>\n",
              "    <tr>\n",
              "      <th>mean</th>\n",
              "      <td>281.167864</td>\n",
              "      <td>73.895825</td>\n",
              "      <td>54.188350</td>\n",
              "      <td>181.567282</td>\n",
              "      <td>6.204660</td>\n",
              "      <td>972.918932</td>\n",
              "      <td>773.580485</td>\n",
              "      <td>45.662136</td>\n",
              "      <td>35.817961</td>\n",
              "    </tr>\n",
              "    <tr>\n",
              "      <th>std</th>\n",
              "      <td>104.506364</td>\n",
              "      <td>86.279342</td>\n",
              "      <td>63.997004</td>\n",
              "      <td>21.354219</td>\n",
              "      <td>5.973841</td>\n",
              "      <td>77.753954</td>\n",
              "      <td>80.175980</td>\n",
              "      <td>63.169912</td>\n",
              "      <td>16.705742</td>\n",
              "    </tr>\n",
              "    <tr>\n",
              "      <th>min</th>\n",
              "      <td>102.000000</td>\n",
              "      <td>0.000000</td>\n",
              "      <td>0.000000</td>\n",
              "      <td>121.800000</td>\n",
              "      <td>0.000000</td>\n",
              "      <td>801.000000</td>\n",
              "      <td>594.000000</td>\n",
              "      <td>1.000000</td>\n",
              "      <td>2.330000</td>\n",
              "    </tr>\n",
              "    <tr>\n",
              "      <th>25%</th>\n",
              "      <td>192.375000</td>\n",
              "      <td>0.000000</td>\n",
              "      <td>0.000000</td>\n",
              "      <td>164.900000</td>\n",
              "      <td>0.000000</td>\n",
              "      <td>932.000000</td>\n",
              "      <td>730.950000</td>\n",
              "      <td>7.000000</td>\n",
              "      <td>23.710000</td>\n",
              "    </tr>\n",
              "    <tr>\n",
              "      <th>50%</th>\n",
              "      <td>272.900000</td>\n",
              "      <td>22.000000</td>\n",
              "      <td>0.000000</td>\n",
              "      <td>185.000000</td>\n",
              "      <td>6.400000</td>\n",
              "      <td>968.000000</td>\n",
              "      <td>779.500000</td>\n",
              "      <td>28.000000</td>\n",
              "      <td>34.445000</td>\n",
              "    </tr>\n",
              "    <tr>\n",
              "      <th>75%</th>\n",
              "      <td>350.000000</td>\n",
              "      <td>142.950000</td>\n",
              "      <td>118.300000</td>\n",
              "      <td>192.000000</td>\n",
              "      <td>10.200000</td>\n",
              "      <td>1029.400000</td>\n",
              "      <td>824.000000</td>\n",
              "      <td>56.000000</td>\n",
              "      <td>46.135000</td>\n",
              "    </tr>\n",
              "    <tr>\n",
              "      <th>max</th>\n",
              "      <td>540.000000</td>\n",
              "      <td>359.400000</td>\n",
              "      <td>200.100000</td>\n",
              "      <td>247.000000</td>\n",
              "      <td>32.200000</td>\n",
              "      <td>1145.000000</td>\n",
              "      <td>992.600000</td>\n",
              "      <td>365.000000</td>\n",
              "      <td>82.600000</td>\n",
              "    </tr>\n",
              "  </tbody>\n",
              "</table>\n",
              "</div>\n",
              "      <button class=\"colab-df-convert\" onclick=\"convertToInteractive('df-a4005642-f60f-4ec9-9e28-e87bc334ddf4')\"\n",
              "              title=\"Convert this dataframe to an interactive table.\"\n",
              "              style=\"display:none;\">\n",
              "        \n",
              "  <svg xmlns=\"http://www.w3.org/2000/svg\" height=\"24px\"viewBox=\"0 0 24 24\"\n",
              "       width=\"24px\">\n",
              "    <path d=\"M0 0h24v24H0V0z\" fill=\"none\"/>\n",
              "    <path d=\"M18.56 5.44l.94 2.06.94-2.06 2.06-.94-2.06-.94-.94-2.06-.94 2.06-2.06.94zm-11 1L8.5 8.5l.94-2.06 2.06-.94-2.06-.94L8.5 2.5l-.94 2.06-2.06.94zm10 10l.94 2.06.94-2.06 2.06-.94-2.06-.94-.94-2.06-.94 2.06-2.06.94z\"/><path d=\"M17.41 7.96l-1.37-1.37c-.4-.4-.92-.59-1.43-.59-.52 0-1.04.2-1.43.59L10.3 9.45l-7.72 7.72c-.78.78-.78 2.05 0 2.83L4 21.41c.39.39.9.59 1.41.59.51 0 1.02-.2 1.41-.59l7.78-7.78 2.81-2.81c.8-.78.8-2.07 0-2.86zM5.41 20L4 18.59l7.72-7.72 1.47 1.35L5.41 20z\"/>\n",
              "  </svg>\n",
              "      </button>\n",
              "      \n",
              "  <style>\n",
              "    .colab-df-container {\n",
              "      display:flex;\n",
              "      flex-wrap:wrap;\n",
              "      gap: 12px;\n",
              "    }\n",
              "\n",
              "    .colab-df-convert {\n",
              "      background-color: #E8F0FE;\n",
              "      border: none;\n",
              "      border-radius: 50%;\n",
              "      cursor: pointer;\n",
              "      display: none;\n",
              "      fill: #1967D2;\n",
              "      height: 32px;\n",
              "      padding: 0 0 0 0;\n",
              "      width: 32px;\n",
              "    }\n",
              "\n",
              "    .colab-df-convert:hover {\n",
              "      background-color: #E2EBFA;\n",
              "      box-shadow: 0px 1px 2px rgba(60, 64, 67, 0.3), 0px 1px 3px 1px rgba(60, 64, 67, 0.15);\n",
              "      fill: #174EA6;\n",
              "    }\n",
              "\n",
              "    [theme=dark] .colab-df-convert {\n",
              "      background-color: #3B4455;\n",
              "      fill: #D2E3FC;\n",
              "    }\n",
              "\n",
              "    [theme=dark] .colab-df-convert:hover {\n",
              "      background-color: #434B5C;\n",
              "      box-shadow: 0px 1px 3px 1px rgba(0, 0, 0, 0.15);\n",
              "      filter: drop-shadow(0px 1px 2px rgba(0, 0, 0, 0.3));\n",
              "      fill: #FFFFFF;\n",
              "    }\n",
              "  </style>\n",
              "\n",
              "      <script>\n",
              "        const buttonEl =\n",
              "          document.querySelector('#df-a4005642-f60f-4ec9-9e28-e87bc334ddf4 button.colab-df-convert');\n",
              "        buttonEl.style.display =\n",
              "          google.colab.kernel.accessAllowed ? 'block' : 'none';\n",
              "\n",
              "        async function convertToInteractive(key) {\n",
              "          const element = document.querySelector('#df-a4005642-f60f-4ec9-9e28-e87bc334ddf4');\n",
              "          const dataTable =\n",
              "            await google.colab.kernel.invokeFunction('convertToInteractive',\n",
              "                                                     [key], {});\n",
              "          if (!dataTable) return;\n",
              "\n",
              "          const docLinkHtml = 'Like what you see? Visit the ' +\n",
              "            '<a target=\"_blank\" href=https://colab.research.google.com/notebooks/data_table.ipynb>data table notebook</a>'\n",
              "            + ' to learn more about interactive tables.';\n",
              "          element.innerHTML = '';\n",
              "          dataTable['output_type'] = 'display_data';\n",
              "          await google.colab.output.renderOutput(dataTable, element);\n",
              "          const docLink = document.createElement('div');\n",
              "          docLink.innerHTML = docLinkHtml;\n",
              "          element.appendChild(docLink);\n",
              "        }\n",
              "      </script>\n",
              "    </div>\n",
              "  </div>\n",
              "  "
            ]
          },
          "metadata": {},
          "execution_count": 61
        }
      ]
    },
    {
      "cell_type": "code",
      "source": [
        "df.isnull().sum() # Any missing values?"
      ],
      "metadata": {
        "colab": {
          "base_uri": "https://localhost:8080/"
        },
        "id": "vIVKeJeRQaZI",
        "outputId": "fd37ad71-3df5-4945-e126-88392acb6c86"
      },
      "execution_count": null,
      "outputs": [
        {
          "output_type": "execute_result",
          "data": {
            "text/plain": [
              "Cement                0\n",
              "Blast Furnace Slag    0\n",
              "Fly Ash               0\n",
              "Water                 0\n",
              "Superplasticizer      0\n",
              "Coarse Aggregate      0\n",
              "Fine Aggregate        0\n",
              "Age                   0\n",
              "Strength              0\n",
              "dtype: int64"
            ]
          },
          "metadata": {},
          "execution_count": 62
        }
      ]
    },
    {
      "cell_type": "markdown",
      "source": [
        ""
      ],
      "metadata": {
        "id": "fF3fQl-JR-i8"
      }
    },
    {
      "cell_type": "markdown",
      "source": [
        "Look at the correlation (just out of couriosity, it is not relevant for this particular exercise).\n",
        "Looks like the strenght is mostly related to the amount of cement, the age and lots of water is rather bad (negatively correlated)."
      ],
      "metadata": {
        "id": "EJ2ZsaewUbcc"
      }
    },
    {
      "cell_type": "code",
      "source": [
        "df.corr()"
      ],
      "metadata": {
        "colab": {
          "base_uri": "https://localhost:8080/"
        },
        "id": "_ixL6swqUlbQ",
        "outputId": "aa7b0b87-d06e-4ec0-c566-16fd2526ea77"
      },
      "execution_count": null,
      "outputs": [
        {
          "output_type": "execute_result",
          "data": {
            "text/plain": [
              "                      Cement  Blast Furnace Slag   Fly Ash     Water  \\\n",
              "Cement              1.000000           -0.275216 -0.397467 -0.081587   \n",
              "Blast Furnace Slag -0.275216            1.000000 -0.323580  0.107252   \n",
              "Fly Ash            -0.397467           -0.323580  1.000000 -0.256984   \n",
              "Water              -0.081587            0.107252 -0.256984  1.000000   \n",
              "Superplasticizer    0.092386            0.043270  0.377503 -0.657533   \n",
              "Coarse Aggregate   -0.109349           -0.283999 -0.009961 -0.182294   \n",
              "Fine Aggregate     -0.222718           -0.281603  0.079108 -0.450661   \n",
              "Age                 0.081946           -0.044246 -0.154371  0.277618   \n",
              "Strength            0.497832            0.134829 -0.105755 -0.289633   \n",
              "\n",
              "                    Superplasticizer  Coarse Aggregate  Fine Aggregate  \\\n",
              "Cement                      0.092386         -0.109349       -0.222718   \n",
              "Blast Furnace Slag          0.043270         -0.283999       -0.281603   \n",
              "Fly Ash                     0.377503         -0.009961        0.079108   \n",
              "Water                      -0.657533         -0.182294       -0.450661   \n",
              "Superplasticizer            1.000000         -0.265999        0.222691   \n",
              "Coarse Aggregate           -0.265999          1.000000       -0.178481   \n",
              "Fine Aggregate              0.222691         -0.178481        1.000000   \n",
              "Age                        -0.192700         -0.003016       -0.156095   \n",
              "Strength                    0.366079         -0.164935       -0.167241   \n",
              "\n",
              "                         Age  Strength  \n",
              "Cement              0.081946  0.497832  \n",
              "Blast Furnace Slag -0.044246  0.134829  \n",
              "Fly Ash            -0.154371 -0.105755  \n",
              "Water               0.277618 -0.289633  \n",
              "Superplasticizer   -0.192700  0.366079  \n",
              "Coarse Aggregate   -0.003016 -0.164935  \n",
              "Fine Aggregate     -0.156095 -0.167241  \n",
              "Age                 1.000000  0.328873  \n",
              "Strength            0.328873  1.000000  "
            ],
            "text/html": [
              "\n",
              "  <div id=\"df-113fcf69-f121-4732-8bf1-26633f6f2091\">\n",
              "    <div class=\"colab-df-container\">\n",
              "      <div>\n",
              "<style scoped>\n",
              "    .dataframe tbody tr th:only-of-type {\n",
              "        vertical-align: middle;\n",
              "    }\n",
              "\n",
              "    .dataframe tbody tr th {\n",
              "        vertical-align: top;\n",
              "    }\n",
              "\n",
              "    .dataframe thead th {\n",
              "        text-align: right;\n",
              "    }\n",
              "</style>\n",
              "<table border=\"1\" class=\"dataframe\">\n",
              "  <thead>\n",
              "    <tr style=\"text-align: right;\">\n",
              "      <th></th>\n",
              "      <th>Cement</th>\n",
              "      <th>Blast Furnace Slag</th>\n",
              "      <th>Fly Ash</th>\n",
              "      <th>Water</th>\n",
              "      <th>Superplasticizer</th>\n",
              "      <th>Coarse Aggregate</th>\n",
              "      <th>Fine Aggregate</th>\n",
              "      <th>Age</th>\n",
              "      <th>Strength</th>\n",
              "    </tr>\n",
              "  </thead>\n",
              "  <tbody>\n",
              "    <tr>\n",
              "      <th>Cement</th>\n",
              "      <td>1.000000</td>\n",
              "      <td>-0.275216</td>\n",
              "      <td>-0.397467</td>\n",
              "      <td>-0.081587</td>\n",
              "      <td>0.092386</td>\n",
              "      <td>-0.109349</td>\n",
              "      <td>-0.222718</td>\n",
              "      <td>0.081946</td>\n",
              "      <td>0.497832</td>\n",
              "    </tr>\n",
              "    <tr>\n",
              "      <th>Blast Furnace Slag</th>\n",
              "      <td>-0.275216</td>\n",
              "      <td>1.000000</td>\n",
              "      <td>-0.323580</td>\n",
              "      <td>0.107252</td>\n",
              "      <td>0.043270</td>\n",
              "      <td>-0.283999</td>\n",
              "      <td>-0.281603</td>\n",
              "      <td>-0.044246</td>\n",
              "      <td>0.134829</td>\n",
              "    </tr>\n",
              "    <tr>\n",
              "      <th>Fly Ash</th>\n",
              "      <td>-0.397467</td>\n",
              "      <td>-0.323580</td>\n",
              "      <td>1.000000</td>\n",
              "      <td>-0.256984</td>\n",
              "      <td>0.377503</td>\n",
              "      <td>-0.009961</td>\n",
              "      <td>0.079108</td>\n",
              "      <td>-0.154371</td>\n",
              "      <td>-0.105755</td>\n",
              "    </tr>\n",
              "    <tr>\n",
              "      <th>Water</th>\n",
              "      <td>-0.081587</td>\n",
              "      <td>0.107252</td>\n",
              "      <td>-0.256984</td>\n",
              "      <td>1.000000</td>\n",
              "      <td>-0.657533</td>\n",
              "      <td>-0.182294</td>\n",
              "      <td>-0.450661</td>\n",
              "      <td>0.277618</td>\n",
              "      <td>-0.289633</td>\n",
              "    </tr>\n",
              "    <tr>\n",
              "      <th>Superplasticizer</th>\n",
              "      <td>0.092386</td>\n",
              "      <td>0.043270</td>\n",
              "      <td>0.377503</td>\n",
              "      <td>-0.657533</td>\n",
              "      <td>1.000000</td>\n",
              "      <td>-0.265999</td>\n",
              "      <td>0.222691</td>\n",
              "      <td>-0.192700</td>\n",
              "      <td>0.366079</td>\n",
              "    </tr>\n",
              "    <tr>\n",
              "      <th>Coarse Aggregate</th>\n",
              "      <td>-0.109349</td>\n",
              "      <td>-0.283999</td>\n",
              "      <td>-0.009961</td>\n",
              "      <td>-0.182294</td>\n",
              "      <td>-0.265999</td>\n",
              "      <td>1.000000</td>\n",
              "      <td>-0.178481</td>\n",
              "      <td>-0.003016</td>\n",
              "      <td>-0.164935</td>\n",
              "    </tr>\n",
              "    <tr>\n",
              "      <th>Fine Aggregate</th>\n",
              "      <td>-0.222718</td>\n",
              "      <td>-0.281603</td>\n",
              "      <td>0.079108</td>\n",
              "      <td>-0.450661</td>\n",
              "      <td>0.222691</td>\n",
              "      <td>-0.178481</td>\n",
              "      <td>1.000000</td>\n",
              "      <td>-0.156095</td>\n",
              "      <td>-0.167241</td>\n",
              "    </tr>\n",
              "    <tr>\n",
              "      <th>Age</th>\n",
              "      <td>0.081946</td>\n",
              "      <td>-0.044246</td>\n",
              "      <td>-0.154371</td>\n",
              "      <td>0.277618</td>\n",
              "      <td>-0.192700</td>\n",
              "      <td>-0.003016</td>\n",
              "      <td>-0.156095</td>\n",
              "      <td>1.000000</td>\n",
              "      <td>0.328873</td>\n",
              "    </tr>\n",
              "    <tr>\n",
              "      <th>Strength</th>\n",
              "      <td>0.497832</td>\n",
              "      <td>0.134829</td>\n",
              "      <td>-0.105755</td>\n",
              "      <td>-0.289633</td>\n",
              "      <td>0.366079</td>\n",
              "      <td>-0.164935</td>\n",
              "      <td>-0.167241</td>\n",
              "      <td>0.328873</td>\n",
              "      <td>1.000000</td>\n",
              "    </tr>\n",
              "  </tbody>\n",
              "</table>\n",
              "</div>\n",
              "      <button class=\"colab-df-convert\" onclick=\"convertToInteractive('df-113fcf69-f121-4732-8bf1-26633f6f2091')\"\n",
              "              title=\"Convert this dataframe to an interactive table.\"\n",
              "              style=\"display:none;\">\n",
              "        \n",
              "  <svg xmlns=\"http://www.w3.org/2000/svg\" height=\"24px\"viewBox=\"0 0 24 24\"\n",
              "       width=\"24px\">\n",
              "    <path d=\"M0 0h24v24H0V0z\" fill=\"none\"/>\n",
              "    <path d=\"M18.56 5.44l.94 2.06.94-2.06 2.06-.94-2.06-.94-.94-2.06-.94 2.06-2.06.94zm-11 1L8.5 8.5l.94-2.06 2.06-.94-2.06-.94L8.5 2.5l-.94 2.06-2.06.94zm10 10l.94 2.06.94-2.06 2.06-.94-2.06-.94-.94-2.06-.94 2.06-2.06.94z\"/><path d=\"M17.41 7.96l-1.37-1.37c-.4-.4-.92-.59-1.43-.59-.52 0-1.04.2-1.43.59L10.3 9.45l-7.72 7.72c-.78.78-.78 2.05 0 2.83L4 21.41c.39.39.9.59 1.41.59.51 0 1.02-.2 1.41-.59l7.78-7.78 2.81-2.81c.8-.78.8-2.07 0-2.86zM5.41 20L4 18.59l7.72-7.72 1.47 1.35L5.41 20z\"/>\n",
              "  </svg>\n",
              "      </button>\n",
              "      \n",
              "  <style>\n",
              "    .colab-df-container {\n",
              "      display:flex;\n",
              "      flex-wrap:wrap;\n",
              "      gap: 12px;\n",
              "    }\n",
              "\n",
              "    .colab-df-convert {\n",
              "      background-color: #E8F0FE;\n",
              "      border: none;\n",
              "      border-radius: 50%;\n",
              "      cursor: pointer;\n",
              "      display: none;\n",
              "      fill: #1967D2;\n",
              "      height: 32px;\n",
              "      padding: 0 0 0 0;\n",
              "      width: 32px;\n",
              "    }\n",
              "\n",
              "    .colab-df-convert:hover {\n",
              "      background-color: #E2EBFA;\n",
              "      box-shadow: 0px 1px 2px rgba(60, 64, 67, 0.3), 0px 1px 3px 1px rgba(60, 64, 67, 0.15);\n",
              "      fill: #174EA6;\n",
              "    }\n",
              "\n",
              "    [theme=dark] .colab-df-convert {\n",
              "      background-color: #3B4455;\n",
              "      fill: #D2E3FC;\n",
              "    }\n",
              "\n",
              "    [theme=dark] .colab-df-convert:hover {\n",
              "      background-color: #434B5C;\n",
              "      box-shadow: 0px 1px 3px 1px rgba(0, 0, 0, 0.15);\n",
              "      filter: drop-shadow(0px 1px 2px rgba(0, 0, 0, 0.3));\n",
              "      fill: #FFFFFF;\n",
              "    }\n",
              "  </style>\n",
              "\n",
              "      <script>\n",
              "        const buttonEl =\n",
              "          document.querySelector('#df-113fcf69-f121-4732-8bf1-26633f6f2091 button.colab-df-convert');\n",
              "        buttonEl.style.display =\n",
              "          google.colab.kernel.accessAllowed ? 'block' : 'none';\n",
              "\n",
              "        async function convertToInteractive(key) {\n",
              "          const element = document.querySelector('#df-113fcf69-f121-4732-8bf1-26633f6f2091');\n",
              "          const dataTable =\n",
              "            await google.colab.kernel.invokeFunction('convertToInteractive',\n",
              "                                                     [key], {});\n",
              "          if (!dataTable) return;\n",
              "\n",
              "          const docLinkHtml = 'Like what you see? Visit the ' +\n",
              "            '<a target=\"_blank\" href=https://colab.research.google.com/notebooks/data_table.ipynb>data table notebook</a>'\n",
              "            + ' to learn more about interactive tables.';\n",
              "          element.innerHTML = '';\n",
              "          dataTable['output_type'] = 'display_data';\n",
              "          await google.colab.output.renderOutput(dataTable, element);\n",
              "          const docLink = document.createElement('div');\n",
              "          docLink.innerHTML = docLinkHtml;\n",
              "          element.appendChild(docLink);\n",
              "        }\n",
              "      </script>\n",
              "    </div>\n",
              "  </div>\n",
              "  "
            ]
          },
          "metadata": {},
          "execution_count": 63
        }
      ]
    },
    {
      "cell_type": "markdown",
      "source": [
        "Lets plot someting with seaborn. Again, not necessary for the task at hand, but fun"
      ],
      "metadata": {
        "id": "-ZPfOcL1W6Wk"
      }
    },
    {
      "cell_type": "code",
      "source": [
        "import matplotlib.pyplot as plt\n",
        "%matplotlib inline\n",
        "import seaborn as sns # improves the look of matplotlib\n",
        "sns.set() # set sns in order to take effect\n",
        "\n",
        "a = df[\"Cement\"]\n",
        "b = df['Strength']\n",
        "c = df['Water']\n",
        "\n",
        "plt.scatter(a, b)\n",
        "plt.scatter(c, b)\n"
      ],
      "metadata": {
        "colab": {
          "base_uri": "https://localhost:8080/"
        },
        "id": "697L3rrpUoIb",
        "outputId": "47a9f115-5195-42fa-fc33-8950085fa17b"
      },
      "execution_count": null,
      "outputs": [
        {
          "output_type": "execute_result",
          "data": {
            "text/plain": [
              "<matplotlib.collections.PathCollection at 0x7f70f6955090>"
            ]
          },
          "metadata": {},
          "execution_count": 64
        },
        {
          "output_type": "display_data",
          "data": {
            "text/plain": [
              "<Figure size 432x288 with 1 Axes>"
            ],
            "image/png": "[encoded data removed]"
          },
          "metadata": {}
        }
      ]
    },
    {
      "cell_type": "markdown",
      "source": [
        "## Feature Selection"
      ],
      "metadata": {
        "id": "9zNz0FPCaKAS"
      }
    },
    {
      "cell_type": "code",
      "source": [
        "X = df. drop(['Strength'],axis=1). values # independant variable (features).\n",
        "y = df['Strength']. values # dependant variable (target/aoutcome).\n",
        "\n",
        "print(X)"
      ],
      "metadata": {
        "colab": {
          "base_uri": "https://localhost:8080/"
        },
        "id": "AQ01tu34XkpV",
        "outputId": "5ec27dc2-a514-40b0-b2bb-4aa65e4fcf83"
      },
      "execution_count": 9,
      "outputs": [
        {
          "output_type": "stream",
          "name": "stdout",
          "text": [
            "[[ 540.     0.     0.  ... 1040.   676.    28. ]\n",
            " [ 540.     0.     0.  ... 1055.   676.    28. ]\n",
            " [ 332.5  142.5    0.  ...  932.   594.   270. ]\n",
            " ...\n",
            " [ 148.5  139.4  108.6 ...  892.4  780.    28. ]\n",
            " [ 159.1  186.7    0.  ...  989.6  788.9   28. ]\n",
            " [ 260.9  100.5   78.3 ...  864.5  761.5   28. ]]\n"
          ]
        }
      ]
    },
    {
      "cell_type": "markdown",
      "source": [
        "## Normalize X\n",
        "Normalize Data (input - independent variable).\n",
        "Calculate the normalized version of X  (needed for part B of the project) "
      ],
      "metadata": {
        "id": "VL_pTcj2PGa2"
      }
    },
    {
      "cell_type": "code",
      "source": [
        "X_norm = (X - X.mean()) / X.std() # This is relevant for Part B and forward of the assignment"
      ],
      "metadata": {
        "id": "KULAbfqXME6g"
      },
      "execution_count": 10,
      "outputs": []
    },
    {
      "cell_type": "markdown",
      "source": [
        "## Train / Test split"
      ],
      "metadata": {
        "id": "5u77gn5EchU7"
      }
    },
    {
      "cell_type": "code",
      "source": [
        "X_train, X_test, y_train, y_test = train_test_split(X, y, test_size=0.25, random_state=42) # For part A of the assignmet use X, for Part B and going forward X_norm  \n",
        "print(X_train)"
      ],
      "metadata": {
        "colab": {
          "base_uri": "https://localhost:8080/"
        },
        "id": "gnc7X5wybG17",
        "outputId": "509c2648-5bc1-465f-a271-045112c35394"
      },
      "execution_count": 11,
      "outputs": [
        {
          "output_type": "stream",
          "name": "stdout",
          "text": [
            "[[ 166.1    0.   163.3 ... 1058.6  780.1   28. ]\n",
            " [ 213.8   98.1   24.5 ... 1066.   785.5   14. ]\n",
            " [ 333.     0.     0.  ...  931.2  842.6    7. ]\n",
            " ...\n",
            " [ 190.3    0.   125.2 ... 1079.   798.9  100. ]\n",
            " [ 475.   118.8    0.  ...  852.1  781.5   28. ]\n",
            " [ 314.     0.   113.  ...  925.   783.    28. ]]\n"
          ]
        }
      ]
    },
    {
      "cell_type": "markdown",
      "source": [
        "## Build the Neural Network\n",
        "Let's define a function that defines our regression model for us so that we can conveniently call it to create our model."
      ],
      "metadata": {
        "id": "iGeiJ430c-Y3"
      }
    },
    {
      "cell_type": "code",
      "source": [
        "# count number of colums for X (needed for the next step)\n",
        "n_cols = X.shape[1] # number of predictors\n",
        "print(n_cols)"
      ],
      "metadata": {
        "colab": {
          "base_uri": "https://localhost:8080/"
        },
        "id": "Mp_T7WIrgrPj",
        "outputId": "d240bd00-e589-449d-d509-4a6825900070"
      },
      "execution_count": 17,
      "outputs": [
        {
          "output_type": "stream",
          "name": "stdout",
          "text": [
            "8\n"
          ]
        }
      ]
    },
    {
      "cell_type": "code",
      "source": [
        "   # For Part A, B and C: One hidden layer of 10 nodes, and a ReLU activation function\n",
        "   \n",
        "   def regression_model():\n",
        "       model = Sequential()\n",
        "       model.add(Dense(10, activation='relu', input_shape=(n_cols,)))\n",
        "       # model.add(Dense(10, activation='relu'))\n",
        "       # model.add(Dense(10, activation='relu'))\n",
        "       model.add(Dense(1))\n",
        "       # compile model\n",
        "       model.compile(optimizer='adam', loss='mean_squared_error')\n",
        "       return model"
      ],
      "metadata": {
        "id": "J_JAGsyXcqZA"
      },
      "execution_count": 18,
      "outputs": []
    },
    {
      "cell_type": "code",
      "source": [
        "# build the model\n",
        "model = regression_model()"
      ],
      "metadata": {
        "id": "zD9iuT00e8lc"
      },
      "execution_count": 19,
      "outputs": []
    },
    {
      "cell_type": "markdown",
      "source": [
        "## Train and Test\n",
        "Next, we will train and test the model at the same time using the fit method. We will leave out 30% of the data for validation and we will train the model for 100 epochs."
      ],
      "metadata": {
        "id": "BxTp76FtiUcS"
      }
    },
    {
      "cell_type": "code",
      "source": [
        "# fit the model and leave 30% of the data for testing. Run for 50 epochs\n",
        "model.fit(X, y, validation_split=0.3, epochs=50, verbose=2, validation_data=(X_test, y_test))"
      ],
      "metadata": {
        "colab": {
          "base_uri": "https://localhost:8080/"
        },
        "id": "DQEewnq8hgdr",
        "outputId": "6ea4c234-5d88-4747-e619-c1f5d0e96c77"
      },
      "execution_count": 21,
      "outputs": [
        {
          "output_type": "stream",
          "name": "stdout",
          "text": [
            "Epoch 1/50\n",
            "23/23 - 0s - loss: 147.6852 - val_loss: 99.3553 - 95ms/epoch - 4ms/step\n",
            "Epoch 2/50\n",
            "23/23 - 0s - loss: 146.7706 - val_loss: 97.0134 - 70ms/epoch - 3ms/step\n",
            "Epoch 3/50\n",
            "23/23 - 0s - loss: 145.3263 - val_loss: 95.0628 - 62ms/epoch - 3ms/step\n",
            "Epoch 4/50\n",
            "23/23 - 0s - loss: 144.6191 - val_loss: 94.5332 - 66ms/epoch - 3ms/step\n",
            "Epoch 5/50\n",
            "23/23 - 0s - loss: 143.1470 - val_loss: 92.6235 - 74ms/epoch - 3ms/step\n",
            "Epoch 6/50\n",
            "23/23 - 0s - loss: 142.7952 - val_loss: 91.6311 - 73ms/epoch - 3ms/step\n",
            "Epoch 7/50\n",
            "23/23 - 0s - loss: 141.7554 - val_loss: 90.9579 - 117ms/epoch - 5ms/step\n",
            "Epoch 8/50\n",
            "23/23 - 0s - loss: 140.5568 - val_loss: 89.1641 - 61ms/epoch - 3ms/step\n",
            "Epoch 9/50\n",
            "23/23 - 0s - loss: 139.5164 - val_loss: 88.5157 - 64ms/epoch - 3ms/step\n",
            "Epoch 10/50\n",
            "23/23 - 0s - loss: 139.1174 - val_loss: 87.1992 - 60ms/epoch - 3ms/step\n",
            "Epoch 11/50\n",
            "23/23 - 0s - loss: 138.0342 - val_loss: 86.5668 - 71ms/epoch - 3ms/step\n",
            "Epoch 12/50\n",
            "23/23 - 0s - loss: 137.5969 - val_loss: 86.4141 - 70ms/epoch - 3ms/step\n",
            "Epoch 13/50\n",
            "23/23 - 0s - loss: 136.9802 - val_loss: 84.8058 - 76ms/epoch - 3ms/step\n",
            "Epoch 14/50\n",
            "23/23 - 0s - loss: 135.9776 - val_loss: 84.7924 - 77ms/epoch - 3ms/step\n",
            "Epoch 15/50\n",
            "23/23 - 0s - loss: 136.3915 - val_loss: 84.6225 - 62ms/epoch - 3ms/step\n",
            "Epoch 16/50\n",
            "23/23 - 0s - loss: 135.7781 - val_loss: 83.0714 - 67ms/epoch - 3ms/step\n",
            "Epoch 17/50\n",
            "23/23 - 0s - loss: 134.5128 - val_loss: 82.4212 - 62ms/epoch - 3ms/step\n",
            "Epoch 18/50\n",
            "23/23 - 0s - loss: 134.4307 - val_loss: 81.4051 - 71ms/epoch - 3ms/step\n",
            "Epoch 19/50\n",
            "23/23 - 0s - loss: 133.7424 - val_loss: 81.5773 - 77ms/epoch - 3ms/step\n",
            "Epoch 20/50\n",
            "23/23 - 0s - loss: 133.2222 - val_loss: 80.4374 - 60ms/epoch - 3ms/step\n",
            "Epoch 21/50\n",
            "23/23 - 0s - loss: 133.9425 - val_loss: 80.9473 - 76ms/epoch - 3ms/step\n",
            "Epoch 22/50\n",
            "23/23 - 0s - loss: 133.0245 - val_loss: 80.3510 - 73ms/epoch - 3ms/step\n",
            "Epoch 23/50\n",
            "23/23 - 0s - loss: 132.4536 - val_loss: 80.7482 - 72ms/epoch - 3ms/step\n",
            "Epoch 24/50\n",
            "23/23 - 0s - loss: 133.9032 - val_loss: 78.0216 - 71ms/epoch - 3ms/step\n",
            "Epoch 25/50\n",
            "23/23 - 0s - loss: 131.8829 - val_loss: 79.3448 - 73ms/epoch - 3ms/step\n",
            "Epoch 26/50\n",
            "23/23 - 0s - loss: 131.8972 - val_loss: 77.7842 - 62ms/epoch - 3ms/step\n",
            "Epoch 27/50\n",
            "23/23 - 0s - loss: 130.9032 - val_loss: 77.8187 - 81ms/epoch - 4ms/step\n",
            "Epoch 28/50\n",
            "23/23 - 0s - loss: 133.0371 - val_loss: 77.9112 - 63ms/epoch - 3ms/step\n",
            "Epoch 29/50\n",
            "23/23 - 0s - loss: 130.8014 - val_loss: 77.5732 - 70ms/epoch - 3ms/step\n",
            "Epoch 30/50\n",
            "23/23 - 0s - loss: 130.1863 - val_loss: 76.6048 - 73ms/epoch - 3ms/step\n",
            "Epoch 31/50\n",
            "23/23 - 0s - loss: 130.0330 - val_loss: 77.9015 - 65ms/epoch - 3ms/step\n",
            "Epoch 32/50\n",
            "23/23 - 0s - loss: 130.0552 - val_loss: 77.0414 - 61ms/epoch - 3ms/step\n",
            "Epoch 33/50\n",
            "23/23 - 0s - loss: 130.2857 - val_loss: 77.4542 - 59ms/epoch - 3ms/step\n",
            "Epoch 34/50\n",
            "23/23 - 0s - loss: 132.2270 - val_loss: 75.9770 - 63ms/epoch - 3ms/step\n",
            "Epoch 35/50\n",
            "23/23 - 0s - loss: 130.4414 - val_loss: 75.5834 - 80ms/epoch - 3ms/step\n",
            "Epoch 36/50\n",
            "23/23 - 0s - loss: 129.7947 - val_loss: 77.7777 - 63ms/epoch - 3ms/step\n",
            "Epoch 37/50\n",
            "23/23 - 0s - loss: 129.1696 - val_loss: 75.6022 - 82ms/epoch - 4ms/step\n",
            "Epoch 38/50\n",
            "23/23 - 0s - loss: 129.9568 - val_loss: 75.4333 - 63ms/epoch - 3ms/step\n",
            "Epoch 39/50\n",
            "23/23 - 0s - loss: 129.0313 - val_loss: 75.1068 - 71ms/epoch - 3ms/step\n",
            "Epoch 40/50\n",
            "23/23 - 0s - loss: 128.7453 - val_loss: 79.3402 - 61ms/epoch - 3ms/step\n",
            "Epoch 41/50\n",
            "23/23 - 0s - loss: 129.6479 - val_loss: 74.9753 - 61ms/epoch - 3ms/step\n",
            "Epoch 42/50\n",
            "23/23 - 0s - loss: 129.6769 - val_loss: 74.4636 - 76ms/epoch - 3ms/step\n",
            "Epoch 43/50\n",
            "23/23 - 0s - loss: 128.3734 - val_loss: 74.5047 - 60ms/epoch - 3ms/step\n",
            "Epoch 44/50\n",
            "23/23 - 0s - loss: 128.8962 - val_loss: 74.8761 - 76ms/epoch - 3ms/step\n",
            "Epoch 45/50\n",
            "23/23 - 0s - loss: 128.5732 - val_loss: 75.2234 - 65ms/epoch - 3ms/step\n",
            "Epoch 46/50\n",
            "23/23 - 0s - loss: 129.1042 - val_loss: 73.8726 - 72ms/epoch - 3ms/step\n",
            "Epoch 47/50\n",
            "23/23 - 0s - loss: 128.6111 - val_loss: 74.1501 - 83ms/epoch - 4ms/step\n",
            "Epoch 48/50\n",
            "23/23 - 0s - loss: 129.1737 - val_loss: 78.1858 - 73ms/epoch - 3ms/step\n",
            "Epoch 49/50\n",
            "23/23 - 0s - loss: 128.2071 - val_loss: 77.9260 - 76ms/epoch - 3ms/step\n",
            "Epoch 50/50\n",
            "23/23 - 0s - loss: 128.5971 - val_loss: 74.5467 - 63ms/epoch - 3ms/step\n"
          ]
        },
        {
          "output_type": "execute_result",
          "data": {
            "text/plain": [
              "<keras.callbacks.History at 0x7fc57d380950>"
            ]
          },
          "metadata": {},
          "execution_count": 21
        }
      ]
    },
    {
      "cell_type": "code",
      "source": [
        "print(model.summary())\n",
        "model.evaluate(X, y)"
      ],
      "metadata": {
        "colab": {
          "base_uri": "https://localhost:8080/"
        },
        "id": "ZAidsf16h7uw",
        "outputId": "f2f1bf60-c817-4a30-ea6f-0e0b0c2fe257"
      },
      "execution_count": 22,
      "outputs": [
        {
          "output_type": "stream",
          "name": "stdout",
          "text": [
            "Model: \"sequential_2\"\n",
            "_________________________________________________________________\n",
            " Layer (type)                Output Shape              Param #   \n",
            "=================================================================\n",
            " dense_4 (Dense)             (None, 10)                90        \n",
            "                                                                 \n",
            " dense_5 (Dense)             (None, 1)                 11        \n",
            "                                                                 \n",
            "=================================================================\n",
            "Total params: 101\n",
            "Trainable params: 101\n",
            "Non-trainable params: 0\n",
            "_________________________________________________________________\n",
            "None\n",
            "33/33 [==============================] - 0s 1ms/step - loss: 111.5372\n"
          ]
        },
        {
          "output_type": "execute_result",
          "data": {
            "text/plain": [
              "111.53718566894531"
            ]
          },
          "metadata": {},
          "execution_count": 22
        }
      ]
    },
    {
      "cell_type": "markdown",
      "source": [
        "## Evaluate the model"
      ],
      "metadata": {
        "id": "lW3-D7DpQDsv"
      }
    },
    {
      "cell_type": "markdown",
      "source": [
        "### Evaluate on the test data"
      ],
      "metadata": {
        "id": "O8noXKTKSIiU"
      }
    },
    {
      "cell_type": "code",
      "source": [
        "# the loss is mean squared error as it was defined in the model building. Further down we also calculate means squared error with a function from scikit learn. Result should be the same \n",
        "loss_val = model.evaluate(X_test, y_test)\n",
        "y_pred = model.predict(X_test)\n",
        "loss_val"
      ],
      "metadata": {
        "id": "OIY86ZU4i_3c",
        "colab": {
          "base_uri": "https://localhost:8080/"
        },
        "outputId": "48e58409-e343-4801-86ce-15fe6520896e"
      },
      "execution_count": 23,
      "outputs": [
        {
          "output_type": "stream",
          "name": "stdout",
          "text": [
            "10/10 [==============================] - 0s 2ms/step - loss: 1537.9808\n"
          ]
        },
        {
          "output_type": "execute_result",
          "data": {
            "text/plain": [
              "1537.9808349609375"
            ]
          },
          "metadata": {},
          "execution_count": 23
        }
      ]
    },
    {
      "cell_type": "markdown",
      "source": [
        "### Evaluate vs actual \n",
        "Next we need to compute the mean squared error between the predicted concrete strength and the actual concrete strength.\n",
        "\n",
        "Let's import the mean_squared_error function from Scikit-learn."
      ],
      "metadata": {
        "id": "SJ69KbNoQP7m"
      }
    },
    {
      "cell_type": "code",
      "source": [
        "from sklearn.metrics import mean_squared_error"
      ],
      "metadata": {
        "id": "e6RQuG5RQBvD"
      },
      "execution_count": 24,
      "outputs": []
    },
    {
      "cell_type": "code",
      "source": [
        "mean_square_error = mean_squared_error(y_test, y_pred)\n",
        "mean = np.mean(mean_square_error)\n",
        "standard_deviation = np.std(mean_square_error)\n",
        "print(mean, standard_deviation)"
      ],
      "metadata": {
        "colab": {
          "base_uri": "https://localhost:8080/"
        },
        "id": "Xyfza86BQaJh",
        "outputId": "e08391dc-7af7-4d1e-bb22-753ce2600d7f"
      },
      "execution_count": 25,
      "outputs": [
        {
          "output_type": "stream",
          "name": "stdout",
          "text": [
            "1537.9808619670162 0.0\n"
          ]
        }
      ]
    },
    {
      "cell_type": "markdown",
      "source": [
        "## PART A of Assignement"
      ],
      "metadata": {
        "id": "-NQQC89VdIp9"
      }
    },
    {
      "cell_type": "markdown",
      "source": [
        "Create a list of 50 mean squared errors and report mean and the standard deviation of the mean squared errors."
      ],
      "metadata": {
        "id": "7wa1mtraQ_aI"
      }
    },
    {
      "cell_type": "code",
      "source": [
        "# use X or X-norm  ------\n",
        "input = X # input = X-norm for Part B and forward\n",
        "# -----------------------\n",
        "\n",
        "total_mean_squared_errors = 50\n",
        "epochs = 50\n",
        "mean_squared_errors = []\n",
        "for i in range(0, total_mean_squared_errors):\n",
        "    X_train, X_test, y_train, y_test = train_test_split(input, y, test_size=0.3, random_state=i)\n",
        "    model.fit(X_train, y_train, epochs=epochs, verbose=0)\n",
        "    MSE = model.evaluate(X_test, y_test, verbose=0)\n",
        "    print(\"MSE \"+str(i+1)+\": \"+str(MSE))\n",
        "    y_pred = model.predict(X_test)\n",
        "    mean_square_error = mean_squared_error(y_test, y_pred)\n",
        "    mean_squared_errors.append(mean_square_error)\n",
        "\n",
        "mean_squared_errors = np.array(mean_squared_errors)\n",
        "mean = np.mean(mean_squared_errors)\n",
        "standard_deviation = np.std(mean_squared_errors)\n",
        "\n",
        "# change between normalized and non-normalized data in 'mean squared errors with ..depending on input = X or X_norm' \"\n",
        "print('\\n')\n",
        "print(\"Below is the mean and standard deviation of \" +str(total_mean_squared_errors) + \" mean squared errors with non-normalized data. Total number of epochs for each training is: \" +str(epochs) + \"\\n\")\n",
        "print(\"Mean: \"+str(mean))\n",
        "print(\"Standard Deviation: \"+str(standard_deviation))"
      ],
      "metadata": {
        "colab": {
          "base_uri": "https://localhost:8080/"
        },
        "id": "urqdybWhQfRr",
        "outputId": "de87c156-01ac-48e9-cbd9-b081a815bec2"
      },
      "execution_count": null,
      "outputs": [
        {
          "output_type": "stream",
          "name": "stdout",
          "text": [
            "MSE 1: 46.63036346435547\n",
            "MSE 2: 55.60920333862305\n",
            "MSE 3: 45.19363021850586\n",
            "MSE 4: 50.281097412109375\n",
            "MSE 5: 55.39271545410156\n",
            "MSE 6: 54.37984848022461\n",
            "MSE 7: 58.54063034057617\n",
            "MSE 8: 48.6876220703125\n",
            "MSE 9: 51.495086669921875\n",
            "MSE 10: 49.96992492675781\n",
            "MSE 11: 47.779273986816406\n",
            "MSE 12: 46.765201568603516\n",
            "MSE 13: 58.14826202392578\n",
            "MSE 14: 52.361122131347656\n",
            "MSE 15: 49.72740936279297\n",
            "MSE 16: 42.47349548339844\n",
            "MSE 17: 52.022281646728516\n",
            "MSE 18: 50.22898483276367\n",
            "MSE 19: 44.581050872802734\n",
            "MSE 20: 47.08901596069336\n",
            "MSE 21: 45.46519470214844\n",
            "MSE 22: 44.1303596496582\n",
            "MSE 23: 42.12464904785156\n",
            "MSE 24: 45.83871078491211\n",
            "MSE 25: 46.6060676574707\n",
            "MSE 26: 47.38974380493164\n",
            "MSE 27: 50.959285736083984\n",
            "MSE 28: 45.96501922607422\n",
            "MSE 29: 51.88426208496094\n",
            "MSE 30: 50.30123519897461\n",
            "MSE 31: 50.81800842285156\n",
            "MSE 32: 41.69404220581055\n",
            "MSE 33: 46.895416259765625\n",
            "MSE 34: 48.22885513305664\n",
            "MSE 35: 45.760372161865234\n",
            "MSE 36: 49.39558792114258\n",
            "MSE 37: 52.99365234375\n",
            "MSE 38: 50.48936080932617\n",
            "MSE 39: 44.162113189697266\n",
            "MSE 40: 43.12897491455078\n",
            "MSE 41: 49.25542068481445\n",
            "MSE 42: 43.77246856689453\n",
            "MSE 43: 43.7628059387207\n",
            "MSE 44: 45.93375778198242\n",
            "MSE 45: 47.95060729980469\n",
            "MSE 46: 51.0135612487793\n",
            "MSE 47: 47.1545295715332\n",
            "MSE 48: 44.5391731262207\n",
            "MSE 49: 42.50504684448242\n",
            "MSE 50: 47.461387634277344\n",
            "\n",
            "\n",
            "Below is the mean and standard deviation of 50 mean squared errors with non-normalized data. Total number of epochs for each training is: 50\n",
            "\n",
            "Mean: 48.29871801469122\n",
            "Standard Deviation: 3.9946102260983873\n"
          ]
        }
      ]
    },
    {
      "cell_type": "markdown",
      "source": [
        "## PART B of Assignement"
      ],
      "metadata": {
        "id": "3RdyY8k7dQpj"
      }
    },
    {
      "cell_type": "code",
      "source": [
        "# use X or X-norm  ------\n",
        "input = X_norm # input = X-norm for Part B and forward\n",
        "# -----------------------\n",
        "\n",
        "total_mean_squared_errors = 50\n",
        "epochs = 50\n",
        "mean_squared_errors = []\n",
        "for i in range(0, total_mean_squared_errors):\n",
        "    X_train, X_test, y_train, y_test = train_test_split(input, y, test_size=0.3, random_state=i)\n",
        "    model.fit(X_train, y_train, epochs=epochs, verbose=0)\n",
        "    MSE = model.evaluate(X_test, y_test, verbose=0)\n",
        "    print(\"MSE \"+str(i+1)+\": \"+str(MSE))\n",
        "    y_pred = model.predict(X_test)\n",
        "    mean_square_error = mean_squared_error(y_test, y_pred)\n",
        "    mean_squared_errors.append(mean_square_error)\n",
        "\n",
        "mean_squared_errors = np.array(mean_squared_errors)\n",
        "mean = np.mean(mean_squared_errors)\n",
        "standard_deviation = np.std(mean_squared_errors)\n",
        "\n",
        "# change between normalized and non-normalized data in 'mean squared errors with ..depending on input = X or X_norm' \"\n",
        "print('\\n')\n",
        "print(\"Below is the mean and standard deviation of \" +str(total_mean_squared_errors) + \" mean squared errors with normalized data. Total number of epochs for each training is: \" +str(epochs) + \"\\n\")\n",
        "print(\"Mean: \"+str(mean))\n",
        "print(\"Standard Deviation: \"+str(standard_deviation))"
      ],
      "metadata": {
        "colab": {
          "base_uri": "https://localhost:8080/"
        },
        "id": "_iIt3JevZBup",
        "outputId": "b5660616-0e9d-4fc2-a236-11182a72e76a"
      },
      "execution_count": null,
      "outputs": [
        {
          "output_type": "stream",
          "name": "stdout",
          "text": [
            "MSE 1: 45.30276107788086\n",
            "MSE 2: 54.15941619873047\n",
            "MSE 3: 45.6934700012207\n",
            "MSE 4: 48.48611831665039\n",
            "MSE 5: 46.98233413696289\n",
            "MSE 6: 50.979087829589844\n",
            "MSE 7: 53.79774856567383\n",
            "MSE 8: 45.9792366027832\n",
            "MSE 9: 46.701805114746094\n",
            "MSE 10: 51.13235092163086\n",
            "MSE 11: 47.97605514526367\n",
            "MSE 12: 42.77960205078125\n",
            "MSE 13: 54.505409240722656\n",
            "MSE 14: 50.53525924682617\n",
            "MSE 15: 47.1468391418457\n",
            "MSE 16: 42.20564270019531\n",
            "MSE 17: 46.91715621948242\n",
            "MSE 18: 48.8132209777832\n",
            "MSE 19: 40.638404846191406\n",
            "MSE 20: 46.89804458618164\n",
            "MSE 21: 42.84587478637695\n",
            "MSE 22: 42.248085021972656\n",
            "MSE 23: 42.447303771972656\n",
            "MSE 24: 44.699459075927734\n",
            "MSE 25: 46.237342834472656\n",
            "MSE 26: 45.533451080322266\n",
            "MSE 27: 46.62476348876953\n",
            "MSE 28: 45.753089904785156\n",
            "MSE 29: 50.7520866394043\n",
            "MSE 30: 47.695804595947266\n",
            "MSE 31: 45.175384521484375\n",
            "MSE 32: 43.130653381347656\n",
            "MSE 33: 44.99952697753906\n",
            "MSE 34: 49.28125762939453\n",
            "MSE 35: 46.045040130615234\n",
            "MSE 36: 52.166603088378906\n",
            "MSE 37: 50.021175384521484\n",
            "MSE 38: 51.894683837890625\n",
            "MSE 39: 46.71428298950195\n",
            "MSE 40: 42.36388397216797\n",
            "MSE 41: 50.9409294128418\n",
            "MSE 42: 42.4746208190918\n",
            "MSE 43: 44.526161193847656\n",
            "MSE 44: 51.98717498779297\n",
            "MSE 45: 50.788230895996094\n",
            "MSE 46: 49.74369812011719\n",
            "MSE 47: 50.242130279541016\n",
            "MSE 48: 49.53470993041992\n",
            "MSE 49: 50.37279510498047\n",
            "MSE 50: 49.43238830566406\n",
            "\n",
            "\n",
            "Below is the mean and standard deviation of 50 mean squared errors with normalized data. Total number of epochs for each training is: 50\n",
            "\n",
            "Mean: 47.486050153777505\n",
            "Standard Deviation: 3.4600478253580342\n"
          ]
        }
      ]
    },
    {
      "cell_type": "markdown",
      "source": [
        "## PART C of Assignment"
      ],
      "metadata": {
        "id": "i3W92oRkPh0e"
      }
    },
    {
      "cell_type": "code",
      "source": [
        "# use X or X-norm  ------\n",
        "input = X_norm # input = X-norm for Part B and forward\n",
        "# -----------------------\n",
        "\n",
        "total_mean_squared_errors = 100\n",
        "epochs = 100\n",
        "mean_squared_errors = []\n",
        "for i in range(0, total_mean_squared_errors):\n",
        "    X_train, X_test, y_train, y_test = train_test_split(input, y, test_size=0.3, random_state=i)\n",
        "    model.fit(X_train, y_train, epochs=epochs, verbose=0)\n",
        "    MSE = model.evaluate(X_test, y_test, verbose=0)\n",
        "    print(\"MSE \"+str(i+1)+\": \"+str(MSE))\n",
        "    y_pred = model.predict(X_test)\n",
        "    mean_square_error = mean_squared_error(y_test, y_pred)\n",
        "    mean_squared_errors.append(mean_square_error)\n",
        "\n",
        "mean_squared_errors = np.array(mean_squared_errors)\n",
        "mean = np.mean(mean_squared_errors)\n",
        "standard_deviation = np.std(mean_squared_errors)\n",
        "\n",
        "# change between normalized and non-normalized data in 'mean squared errors with ..depending on input = X or X_norm' \"\n",
        "print('\\n')\n",
        "print(\"Below is the mean and standard deviation of \" +str(total_mean_squared_errors) + \" mean squared errors with normalized data. Total number of epochs for each training is: \" +str(epochs) + \"\\n\")\n",
        "print(\"Mean: \"+str(mean))\n",
        "print(\"Standard Deviation: \"+str(standard_deviation))"
      ],
      "metadata": {
        "colab": {
          "base_uri": "https://localhost:8080/"
        },
        "id": "vWfOjga6eky3",
        "outputId": "01219ca0-c57e-4651-ba47-f9c22e2fb333"
      },
      "execution_count": null,
      "outputs": [
        {
          "output_type": "stream",
          "name": "stdout",
          "text": [
            "MSE 1: 44.42921829223633\n",
            "MSE 2: 53.17881393432617\n",
            "MSE 3: 44.06444549560547\n",
            "MSE 4: 47.00339889526367\n",
            "MSE 5: 46.037357330322266\n",
            "MSE 6: 50.8060417175293\n",
            "MSE 7: 53.73298263549805\n",
            "MSE 8: 45.766387939453125\n",
            "MSE 9: 45.92265701293945\n",
            "MSE 10: 51.19281768798828\n",
            "MSE 11: 47.105560302734375\n",
            "MSE 12: 42.11293029785156\n",
            "MSE 13: 53.56943893432617\n",
            "MSE 14: 49.842864990234375\n",
            "MSE 15: 46.06721115112305\n",
            "MSE 16: 41.067352294921875\n",
            "MSE 17: 45.71429443359375\n",
            "MSE 18: 47.60752487182617\n",
            "MSE 19: 39.03409957885742\n",
            "MSE 20: 45.59123992919922\n",
            "MSE 21: 40.40010070800781\n",
            "MSE 22: 40.67131423950195\n",
            "MSE 23: 40.04538345336914\n",
            "MSE 24: 42.46395492553711\n",
            "MSE 25: 44.09761428833008\n",
            "MSE 26: 43.276065826416016\n",
            "MSE 27: 44.2633171081543\n",
            "MSE 28: 42.23894500732422\n",
            "MSE 29: 48.03921890258789\n",
            "MSE 30: 45.52577590942383\n",
            "MSE 31: 44.339080810546875\n",
            "MSE 32: 40.52536392211914\n",
            "MSE 33: 42.98743438720703\n",
            "MSE 34: 46.22614669799805\n",
            "MSE 35: 43.52667236328125\n",
            "MSE 36: 49.97806167602539\n",
            "MSE 37: 44.5407829284668\n",
            "MSE 38: 47.810943603515625\n",
            "MSE 39: 44.027442932128906\n",
            "MSE 40: 39.083011627197266\n",
            "MSE 41: 47.622432708740234\n",
            "MSE 42: 39.34796142578125\n",
            "MSE 43: 42.5306282043457\n",
            "MSE 44: 49.719146728515625\n",
            "MSE 45: 48.60172653198242\n",
            "MSE 46: 47.01771545410156\n",
            "MSE 47: 47.379425048828125\n",
            "MSE 48: 45.88425827026367\n",
            "MSE 49: 46.89244079589844\n",
            "MSE 50: 45.289833068847656\n",
            "MSE 51: 40.60289764404297\n",
            "MSE 52: 42.87177658081055\n",
            "MSE 53: 40.025169372558594\n",
            "MSE 54: 42.772064208984375\n",
            "MSE 55: 47.43528747558594\n",
            "MSE 56: 42.73817825317383\n",
            "MSE 57: 40.274513244628906\n",
            "MSE 58: 43.551673889160156\n",
            "MSE 59: 47.161521911621094\n",
            "MSE 60: 44.76572036743164\n",
            "MSE 61: 40.57757568359375\n",
            "MSE 62: 41.724273681640625\n",
            "MSE 63: 43.133575439453125\n",
            "MSE 64: 41.335723876953125\n",
            "MSE 65: 45.2416877746582\n",
            "MSE 66: 48.19108200073242\n",
            "MSE 67: 40.13088607788086\n",
            "MSE 68: 45.278133392333984\n",
            "MSE 69: 35.83003234863281\n",
            "MSE 70: 42.78946304321289\n",
            "MSE 71: 44.05574035644531\n",
            "MSE 72: 39.2833251953125\n",
            "MSE 73: 40.17374801635742\n",
            "MSE 74: 41.963165283203125\n",
            "MSE 75: 46.57096481323242\n",
            "MSE 76: 40.07197952270508\n",
            "MSE 77: 41.34046173095703\n",
            "MSE 78: 43.446205139160156\n",
            "MSE 79: 42.930904388427734\n",
            "MSE 80: 46.64834213256836\n",
            "MSE 81: 43.170223236083984\n",
            "MSE 82: 44.99005126953125\n",
            "MSE 83: 41.52617645263672\n",
            "MSE 84: 40.84567642211914\n",
            "MSE 85: 39.857173919677734\n",
            "MSE 86: 40.82015609741211\n",
            "MSE 87: 39.92402648925781\n",
            "MSE 88: 36.96233367919922\n",
            "MSE 89: 38.44875717163086\n",
            "MSE 90: 38.207576751708984\n",
            "MSE 91: 46.2005615234375\n",
            "MSE 92: 38.08622360229492\n",
            "MSE 93: 43.46940231323242\n",
            "MSE 94: 45.04179763793945\n",
            "MSE 95: 46.70068359375\n",
            "MSE 96: 40.10923767089844\n",
            "MSE 97: 42.602455139160156\n",
            "MSE 98: 47.757484436035156\n",
            "MSE 99: 43.87377166748047\n",
            "MSE 100: 47.081050872802734\n",
            "\n",
            "\n",
            "Below is the mean and standard deviation of 100 mean squared errors with normalized data. Total number of epochs for each training is: 100\n",
            "\n",
            "Mean: 44.02789689173596\n",
            "Standard Deviation: 3.625842963323844\n"
          ]
        }
      ]
    },
    {
      "cell_type": "markdown",
      "source": [
        "## PART D of Assignment"
      ],
      "metadata": {
        "id": "2xI9cJwNYfSb"
      }
    },
    {
      "cell_type": "code",
      "source": [
        "   # For Part D: Three hidden layer of 10 nodes, and a ReLU activation function\n",
        "   \n",
        "   def regression_model():\n",
        "       model_d = Sequential()\n",
        "       model_d.add(Dense(10, activation='relu', input_shape=(n_cols,)))\n",
        "       model_d.add(Dense(10, activation='relu'))\n",
        "       model_d.add(Dense(10, activation='relu'))\n",
        "       model_d.add(Dense(1))\n",
        "       # compile model\n",
        "       model_d.compile(optimizer='adam', loss='mean_squared_error')\n",
        "       return model_d"
      ],
      "metadata": {
        "id": "d5WtyoXaY1SW"
      },
      "execution_count": 4,
      "outputs": []
    },
    {
      "cell_type": "code",
      "source": [
        "# build the model\n",
        "model_d = regression_model()"
      ],
      "metadata": {
        "id": "yWgrSia5ZQZC"
      },
      "execution_count": 13,
      "outputs": []
    },
    {
      "cell_type": "code",
      "source": [
        "# use X or X-norm  ------\n",
        "input = X_norm # input = X-norm for Part B and forward\n",
        "# -----------------------\n",
        "\n",
        "total_mean_squared_errors = 100\n",
        "epochs = 100\n",
        "mean_squared_errors = []\n",
        "for i in range(0, total_mean_squared_errors):\n",
        "    X_train, X_test, y_train, y_test = train_test_split(input, y, test_size=0.3, random_state=i)\n",
        "    model_d.fit(X_train, y_train, epochs=epochs, verbose=0)\n",
        "    MSE = model_d.evaluate(X_test, y_test, verbose=0)\n",
        "    print(\"MSE \"+str(i+1)+\": \"+str(MSE))\n",
        "    y_pred = model_d.predict(X_test)\n",
        "    mean_square_error = mean_squared_error(y_test, y_pred)\n",
        "    mean_squared_errors.append(mean_square_error)\n",
        "\n",
        "mean_squared_errors = np.array(mean_squared_errors)\n",
        "mean = np.mean(mean_squared_errors)\n",
        "standard_deviation = np.std(mean_squared_errors)\n",
        "\n",
        "# change between normalized and non-normalized data in 'mean squared errors with ..depending on input = X or X_norm' \"\n",
        "print('\\n')\n",
        "print(\"Below is the mean and standard deviation of \" +str(total_mean_squared_errors) + \" mean squared errors with normalized data. Total number of epochs for each training is: \" +str(epochs) + \"\\n\")\n",
        "print(\"Mean: \"+str(mean))\n",
        "print(\"Standard Deviation: \"+str(standard_deviation))"
      ],
      "metadata": {
        "id": "8Dj8IA6KRS8g",
        "colab": {
          "base_uri": "https://localhost:8080/"
        },
        "outputId": "f26b56c7-a67a-4bfc-cbc6-ff698eb3a115"
      },
      "execution_count": 26,
      "outputs": [
        {
          "output_type": "stream",
          "name": "stdout",
          "text": [
            "MSE 1: 53.278770446777344\n",
            "MSE 2: 59.73622512817383\n",
            "MSE 3: 43.44036102294922\n",
            "MSE 4: 47.18175506591797\n",
            "MSE 5: 44.06436538696289\n",
            "MSE 6: 47.24593734741211\n",
            "MSE 7: 48.943626403808594\n",
            "MSE 8: 42.967376708984375\n",
            "MSE 9: 43.28153610229492\n",
            "MSE 10: 45.018768310546875\n",
            "MSE 11: 44.09657669067383\n",
            "MSE 12: 40.4283561706543\n",
            "MSE 13: 49.26630401611328\n",
            "MSE 14: 46.58526611328125\n",
            "MSE 15: 41.28058624267578\n",
            "MSE 16: 34.570274353027344\n",
            "MSE 17: 37.66974639892578\n",
            "MSE 18: 42.242271423339844\n",
            "MSE 19: 36.673179626464844\n",
            "MSE 20: 40.54566192626953\n",
            "MSE 21: 39.70600509643555\n",
            "MSE 22: 38.36491775512695\n",
            "MSE 23: 33.97776794433594\n",
            "MSE 24: 35.85478591918945\n",
            "MSE 25: 38.57972717285156\n",
            "MSE 26: 37.149436950683594\n",
            "MSE 27: 38.84543228149414\n",
            "MSE 28: 34.60663986206055\n",
            "MSE 29: 41.72658920288086\n",
            "MSE 30: 36.936317443847656\n",
            "MSE 31: 37.497188568115234\n",
            "MSE 32: 35.57341384887695\n",
            "MSE 33: 35.04322814941406\n",
            "MSE 34: 37.25686264038086\n",
            "MSE 35: 38.10411071777344\n",
            "MSE 36: 42.401729583740234\n",
            "MSE 37: 39.3030891418457\n",
            "MSE 38: 38.53602981567383\n",
            "MSE 39: 35.99562454223633\n",
            "MSE 40: 30.72787094116211\n",
            "MSE 41: 36.579036712646484\n",
            "MSE 42: 31.33905029296875\n",
            "MSE 43: 34.1322135925293\n",
            "MSE 44: 44.378726959228516\n",
            "MSE 45: 39.12925338745117\n",
            "MSE 46: 37.255149841308594\n",
            "MSE 47: 32.94462203979492\n",
            "MSE 48: 35.51154708862305\n",
            "MSE 49: 34.28862380981445\n",
            "MSE 50: 35.87010955810547\n",
            "MSE 51: 33.10436248779297\n",
            "MSE 52: 31.8167667388916\n",
            "MSE 53: 29.07737922668457\n",
            "MSE 54: 32.14815139770508\n",
            "MSE 55: 37.9494514465332\n",
            "MSE 56: 28.778718948364258\n",
            "MSE 57: 35.06851577758789\n",
            "MSE 58: 36.14032745361328\n",
            "MSE 59: 33.56248092651367\n",
            "MSE 60: 33.64594268798828\n",
            "MSE 61: 32.23720932006836\n",
            "MSE 62: 29.54663848876953\n",
            "MSE 63: 32.34189987182617\n",
            "MSE 64: 32.59507369995117\n",
            "MSE 65: 31.58601951599121\n",
            "MSE 66: 32.150814056396484\n",
            "MSE 67: 28.338232040405273\n",
            "MSE 68: 35.34734344482422\n",
            "MSE 69: 25.365234375\n",
            "MSE 70: 31.411155700683594\n",
            "MSE 71: 29.684574127197266\n",
            "MSE 72: 30.649076461791992\n",
            "MSE 73: 31.715614318847656\n",
            "MSE 74: 31.62447166442871\n",
            "MSE 75: 32.36671829223633\n",
            "MSE 76: 29.273990631103516\n",
            "MSE 77: 29.62675666809082\n",
            "MSE 78: 24.408384323120117\n",
            "MSE 79: 34.679832458496094\n",
            "MSE 80: 37.66560363769531\n",
            "MSE 81: 35.28132247924805\n",
            "MSE 82: 32.78633117675781\n",
            "MSE 83: 35.70912170410156\n",
            "MSE 84: 29.230159759521484\n",
            "MSE 85: 31.282554626464844\n",
            "MSE 86: 28.015979766845703\n",
            "MSE 87: 31.075767517089844\n",
            "MSE 88: 28.23134994506836\n",
            "MSE 89: 33.18597412109375\n",
            "MSE 90: 31.59941291809082\n",
            "MSE 91: 33.963279724121094\n",
            "MSE 92: 25.44268226623535\n",
            "MSE 93: 31.790348052978516\n",
            "MSE 94: 30.919963836669922\n",
            "MSE 95: 29.64434814453125\n",
            "MSE 96: 29.492067337036133\n",
            "MSE 97: 32.8256721496582\n",
            "MSE 98: 34.106204986572266\n",
            "MSE 99: 32.07184982299805\n",
            "MSE 100: 30.105180740356445\n",
            "\n",
            "\n",
            "Below is the mean and standard deviation of 100 mean squared errors with normalized data. Total number of epochs for each training is: 100\n",
            "\n",
            "Mean: 35.76798395068275\n",
            "Standard Deviation: 6.086706133927978\n"
          ]
        }
      ]
    },
    {
      "cell_type": "code",
      "source": [
        ""
      ],
      "metadata": {
        "id": "4FsbtOeEaTH7"
      },
      "execution_count": null,
      "outputs": []
    }
  ]
}